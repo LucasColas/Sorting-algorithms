{
  "nbformat": 4,
  "nbformat_minor": 0,
  "metadata": {
    "colab": {
      "name": "Sorting algorithms.ipynb",
      "provenance": [],
      "collapsed_sections": [],
      "authorship_tag": "ABX9TyNCnKgKUrpaQqT53DWE9ISB",
      "include_colab_link": true
    },
    "kernelspec": {
      "name": "python3",
      "display_name": "Python 3"
    }
  },
  "cells": [
    {
      "cell_type": "markdown",
      "metadata": {
        "id": "view-in-github",
        "colab_type": "text"
      },
      "source": [
        "<a href=\"https://colab.research.google.com/github/LucasColas/Sorting-algorithms/blob/main/%20Notebook%20version/Sorting_algorithms.ipynb\" target=\"_parent\"><img src=\"https://colab.research.google.com/assets/colab-badge.svg\" alt=\"Open In Colab\"/></a>"
      ]
    },
    {
      "cell_type": "markdown",
      "metadata": {
        "id": "DMzQ4SMKHKIY"
      },
      "source": [
        "# **Algorithmes de Tri (Sorting Algorithms)**"
      ]
    },
    {
      "cell_type": "markdown",
      "metadata": {
        "id": "wAR3E5BuA-a2"
      },
      "source": [
        "**Algorithme de tri par sélection (selection sort)**\n",
        "\n",
        "---\n",
        "\n"
      ]
    },
    {
      "cell_type": "code",
      "metadata": {
        "colab": {
          "base_uri": "https://localhost:8080/"
        },
        "id": "JSUCG4j2A8JH",
        "outputId": "09b15a5a-aa98-4fe5-ee0c-28499148571a"
      },
      "source": [
        "def selection_sort(board):\n",
        "\n",
        "  for i in range(len(board)):\n",
        "    min = i\n",
        "    for j in range(i+1, len(board)):\n",
        "      if board[j] < board[min]:\n",
        "        min = j\n",
        "\n",
        "    temp = board[min]\n",
        "    board[min] = board[i]\n",
        "    board[i] = temp\n",
        "\n",
        "  return board\n",
        "\n",
        "trial = [4,3,6,11,2,5]\n",
        "print(selection_sort(trial))"
      ],
      "execution_count": null,
      "outputs": [
        {
          "output_type": "stream",
          "text": [
            "[2, 3, 4, 5, 6, 11]\n"
          ],
          "name": "stdout"
        }
      ]
    },
    {
      "cell_type": "markdown",
      "metadata": {
        "id": "SpOAoAYDCUCF"
      },
      "source": [
        "**Insertion Sort**\n",
        "\n",
        "---\n",
        "\n"
      ]
    },
    {
      "cell_type": "code",
      "metadata": {
        "id": "P3KRp4UrCTwz",
        "colab": {
          "base_uri": "https://localhost:8080/"
        },
        "outputId": "5e19bc14-d885-4e0f-8c35-f4767a204e43"
      },
      "source": [
        "def InsertionSort(Board):\n",
        "  for i in range(1, len(Board)):\n",
        "\n",
        "    mem = Board[i]\n",
        "    j = i-1\n",
        "\n",
        "    while j >= 0 and Board[j] > mem:\n",
        "      Board[j+1] = Board[j]\n",
        "      j -= 1\n",
        "\n",
        "    Board[j+1] = mem\n",
        "\n",
        "\n",
        "  \n",
        "  return Board\n",
        "\n",
        "Tab = [1,4,5,3,99,76,34,12,24,51,18,25,17,77, 32, 14, 11,9]\n",
        "print(InsertionSort(Tab))"
      ],
      "execution_count": null,
      "outputs": [
        {
          "output_type": "stream",
          "text": [
            "[1, 3, 4, 5, 9, 11, 12, 14, 17, 18, 24, 25, 32, 34, 51, 76, 77, 99]\n"
          ],
          "name": "stdout"
        }
      ]
    },
    {
      "cell_type": "markdown",
      "metadata": {
        "id": "_vr5N6JQvjVx"
      },
      "source": [
        "Bubble Sort\n",
        "\n",
        "---\n",
        "\n"
      ]
    },
    {
      "cell_type": "code",
      "metadata": {
        "colab": {
          "base_uri": "https://localhost:8080/"
        },
        "id": "ERgiqfo1vlYR",
        "outputId": "a81c09f5-b9b3-4339-e876-a48ec9c4c87b"
      },
      "source": [
        "def BubbleSort(board):\n",
        "  for i in range(len(board)-1, 1, -1):\n",
        "    for j in range(0, i):\n",
        "      if board[j] > board[j+1]:\n",
        "        temp = board[j]\n",
        "        board[j] = board[j+1]\n",
        "        board[j+1] = temp\n",
        "\n",
        "  return board\n",
        "\n",
        "def BubbleSort2(Board):\n",
        "  for i in range(len(Board)):\n",
        "    for j in range(0,len(Board)-1):\n",
        "      if Board[j] > Board[j+1]:\n",
        "        Board[j], Board[j+1] = Board[j+1], Board[j] \n",
        "\n",
        "  return Board\n",
        "\n",
        "board = [4,5,1,2,99,9,7,11,3]\n",
        "print(board)\n",
        "print(BubbleSort2(board))\n"
      ],
      "execution_count": null,
      "outputs": [
        {
          "output_type": "stream",
          "text": [
            "[4, 5, 1, 2, 99, 9, 7, 11, 3]\n",
            "[1, 2, 3, 4, 5, 7, 9, 11, 99]\n"
          ],
          "name": "stdout"
        }
      ]
    },
    {
      "cell_type": "markdown",
      "metadata": {
        "id": "I9qHogbw4wkE"
      },
      "source": [
        "**Quicksort**\r\n",
        "\r\n",
        "---\r\n",
        "\r\n"
      ]
    },
    {
      "cell_type": "code",
      "metadata": {
        "id": "VdOyIjZw4uhQ",
        "colab": {
          "base_uri": "https://localhost:8080/"
        },
        "outputId": "0295e918-f2c9-4670-d9f8-035862c06c15"
      },
      "source": [
        "\r\n",
        "def partition(Board, first, last):\r\n",
        "    pivot = Board[last]\r\n",
        "    i = first\r\n",
        "\r\n",
        "    for j in range(first,last):\r\n",
        "        if Board[j] < pivot:\r\n",
        "            Board[i], Board[j] = Board[j], Board[i]\r\n",
        "            i += 1\r\n",
        "\r\n",
        "    Board[i], Board[last] = Board[last], Board[i]\r\n",
        "\r\n",
        "    return i\r\n",
        "\r\n",
        "\r\n",
        "def QuickSort(Board, first, last):\r\n",
        "    if first < last:\r\n",
        "        p = partition(Board, first, last)\r\n",
        "\r\n",
        "        QuickSort(Board, first, p-1)\r\n",
        "        QuickSort(Board, p+1, last)\r\n",
        "\r\n",
        "Board = [3,2,9,11,7,5,4,1]\r\n",
        "QuickSort(Board, 0, len(Board)-1)\r\n",
        "\r\n",
        "print(Board)"
      ],
      "execution_count": 4,
      "outputs": [
        {
          "output_type": "stream",
          "text": [
            "[1, 2, 3, 4, 5, 7, 9, 11]\n"
          ],
          "name": "stdout"
        }
      ]
    }
  ]
}