{
  "nbformat": 4,
  "nbformat_minor": 0,
  "metadata": {
    "colab": {
      "name": "Sorting algorithms.ipynb",
      "provenance": [],
      "authorship_tag": "ABX9TyNIPcYQVIlBmS8Y9d5qXJG/",
      "include_colab_link": true
    },
    "kernelspec": {
      "name": "python3",
      "display_name": "Python 3"
    }
  },
  "cells": [
    {
      "cell_type": "markdown",
      "metadata": {
        "id": "view-in-github",
        "colab_type": "text"
      },
      "source": [
        "<a href=\"https://colab.research.google.com/github/LucasColas/Sorting-algorithms/blob/main/Sorting_algorithms.ipynb\" target=\"_parent\"><img src=\"https://colab.research.google.com/assets/colab-badge.svg\" alt=\"Open In Colab\"/></a>"
      ]
    },
    {
      "cell_type": "markdown",
      "metadata": {
        "id": "DMzQ4SMKHKIY"
      },
      "source": [
        "# **Algorithmes de Tri (Sorting Algorithmes)**"
      ]
    },
    {
      "cell_type": "markdown",
      "metadata": {
        "id": "kKmawSoNHQ-k"
      },
      "source": [
        "List :\n",
        "\n",
        "*   bubble sort\n",
        "*   insertion sort \n",
        "*   quicksort\n",
        "\n",
        "\n"
      ]
    },
    {
      "cell_type": "markdown",
      "metadata": {
        "id": "wAR3E5BuA-a2"
      },
      "source": [
        "**Algorithme de tri par sélection (selection sort)**\n",
        "\n",
        "---\n",
        "\n"
      ]
    },
    {
      "cell_type": "code",
      "metadata": {
        "colab": {
          "base_uri": "https://localhost:8080/"
        },
        "id": "JSUCG4j2A8JH",
        "outputId": "682103c5-cbe8-48a9-896b-9f8cfd33abbf"
      },
      "source": [
        "def selection_sort(board):\n",
        "\n",
        "  for i in range(len(board)):\n",
        "    min = i\n",
        "    for j in range(i+1, len(board)):\n",
        "      if board[j] < board[min]:\n",
        "        min = j\n",
        "\n",
        "    temp = board[min]\n",
        "    board[min] = board[i]\n",
        "    board[i] = temp\n",
        "\n",
        "  return board\n",
        "\n",
        "trial = [4,3,6,11,2,5]\n",
        "print(selection_sort(trial))"
      ],
      "execution_count": 3,
      "outputs": [
        {
          "output_type": "stream",
          "text": [
            "[2, 3, 4, 5, 6, 11]\n"
          ],
          "name": "stdout"
        }
      ]
    },
    {
      "cell_type": "markdown",
      "metadata": {
        "id": "SpOAoAYDCUCF"
      },
      "source": [
        "**Insertion Sort**\n",
        "\n",
        "---\n",
        "\n"
      ]
    },
    {
      "cell_type": "code",
      "metadata": {
        "id": "P3KRp4UrCTwz"
      },
      "source": [
        ""
      ],
      "execution_count": null,
      "outputs": []
    }
  ]
}